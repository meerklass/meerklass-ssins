{
 "cells": [
  {
   "cell_type": "code",
   "execution_count": 2,
   "id": "de2ecdfc-5f63-4918-a4ae-889facbcf2d2",
   "metadata": {},
   "outputs": [
    {
     "ename": "ModuleNotFoundError",
     "evalue": "No module named 'mkssins'",
     "output_type": "error",
     "traceback": [
      "\u001b[0;31m---------------------------------------------------------------------------\u001b[0m",
      "\u001b[0;31mModuleNotFoundError\u001b[0m                       Traceback (most recent call last)",
      "\u001b[0;32m<ipython-input-2-f2ae63397cf4>\u001b[0m in \u001b[0;36m<module>\u001b[0;34m()\u001b[0m\n\u001b[1;32m      2\u001b[0m \u001b[0;32mimport\u001b[0m \u001b[0msys\u001b[0m\u001b[0;34m\u001b[0m\u001b[0;34m\u001b[0m\u001b[0m\n\u001b[1;32m      3\u001b[0m \u001b[0msys\u001b[0m\u001b[0;34m.\u001b[0m\u001b[0mpath\u001b[0m\u001b[0;34m.\u001b[0m\u001b[0mappend\u001b[0m\u001b[0;34m(\u001b[0m\u001b[0mos\u001b[0m\u001b[0;34m.\u001b[0m\u001b[0mpath\u001b[0m\u001b[0;34m.\u001b[0m\u001b[0mabspath\u001b[0m\u001b[0;34m(\u001b[0m\u001b[0;34m'.'\u001b[0m\u001b[0;34m)\u001b[0m\u001b[0;34m)\u001b[0m\u001b[0;34m\u001b[0m\u001b[0;34m\u001b[0m\u001b[0m\n\u001b[0;32m----> 4\u001b[0;31m \u001b[0;32mimport\u001b[0m \u001b[0mmkssins\u001b[0m\u001b[0;34m\u001b[0m\u001b[0;34m\u001b[0m\u001b[0m\n\u001b[0m\u001b[1;32m      5\u001b[0m \u001b[0;32mfrom\u001b[0m \u001b[0mmkssins\u001b[0m \u001b[0;32mimport\u001b[0m \u001b[0;34m*\u001b[0m\u001b[0;34m\u001b[0m\u001b[0;34m\u001b[0m\u001b[0m\n\u001b[1;32m      6\u001b[0m \u001b[0;32mfrom\u001b[0m \u001b[0mpathlib\u001b[0m \u001b[0;32mimport\u001b[0m \u001b[0mPath\u001b[0m\u001b[0;34m\u001b[0m\u001b[0;34m\u001b[0m\u001b[0m\n",
      "\u001b[0;31mModuleNotFoundError\u001b[0m: No module named 'mkssins'"
     ]
    }
   ],
   "source": [
    "import os\n",
    "import sys\n",
    "sys.path.append(os.path.abspath('.'))\n",
    "import mkssins\n",
    "from mkssins import *\n",
    "from pathlib import Path\n",
    "import warnings\n",
    "warnings.filterwarnings(\"ignore\")"
   ]
  },
  {
   "cell_type": "code",
   "execution_count": null,
   "id": "77b34699-2401-465f-957f-1d837bd5f9f7",
   "metadata": {},
   "outputs": [],
   "source": []
  },
  {
   "cell_type": "code",
   "execution_count": null,
   "id": "fbaf35fb-c1e0-4d34-921b-ece5b56bbfe3",
   "metadata": {},
   "outputs": [],
   "source": []
  },
  {
   "cell_type": "code",
   "execution_count": null,
   "id": "9a816b8e-8a0d-4ddf-895c-e1002f50bf72",
   "metadata": {},
   "outputs": [],
   "source": []
  },
  {
   "cell_type": "code",
   "execution_count": null,
   "id": "098a7f31-1ab9-4321-9449-14c3f5e4135a",
   "metadata": {},
   "outputs": [],
   "source": []
  },
  {
   "cell_type": "code",
   "execution_count": null,
   "id": "df848ba4-97d9-4a48-999f-8baca0efb69e",
   "metadata": {},
   "outputs": [],
   "source": []
  },
  {
   "cell_type": "code",
   "execution_count": null,
   "id": "4c6cec3d-86e1-46bd-af80-f816cf925202",
   "metadata": {},
   "outputs": [],
   "source": []
  },
  {
   "cell_type": "code",
   "execution_count": null,
   "id": "8eb0f2f7-12f1-4450-9f09-41a058f3dd51",
   "metadata": {},
   "outputs": [],
   "source": [
    "\n"
   ]
  },
  {
   "cell_type": "code",
   "execution_count": null,
   "id": "2b4fe71b-0bc3-4899-abe4-f10899845942",
   "metadata": {},
   "outputs": [],
   "source": []
  },
  {
   "cell_type": "code",
   "execution_count": 1,
   "id": "84fe2874-8e80-4f88-8023-cb20baafb9e6",
   "metadata": {},
   "outputs": [
    {
     "ename": "NameError",
     "evalue": "name 'z_score_map_abba' is not defined",
     "output_type": "error",
     "traceback": [
      "\u001b[0;31m---------------------------------------------------------------------------\u001b[0m",
      "\u001b[0;31mNameError\u001b[0m                                 Traceback (most recent call last)",
      "\u001b[0;32m<ipython-input-1-7a735a3e7dac>\u001b[0m in \u001b[0;36m<module>\u001b[0;34m()\u001b[0m\n\u001b[0;32m----> 1\u001b[0;31m \u001b[0mz_score_map_abba_mask\u001b[0m \u001b[0;34m=\u001b[0m \u001b[0;34m(\u001b[0m\u001b[0;34m(\u001b[0m\u001b[0mz_score_map_abba\u001b[0m\u001b[0;34m.\u001b[0m\u001b[0mastype\u001b[0m\u001b[0;34m(\u001b[0m\u001b[0mfloat\u001b[0m\u001b[0;34m)\u001b[0m \u001b[0;34m<\u001b[0m \u001b[0;34m-\u001b[0m\u001b[0;36m5\u001b[0m\u001b[0;34m)\u001b[0m \u001b[0;34m^\u001b[0m \u001b[0;34m(\u001b[0m\u001b[0mz_score_map_abba\u001b[0m\u001b[0;34m.\u001b[0m\u001b[0mastype\u001b[0m\u001b[0;34m(\u001b[0m\u001b[0mfloat\u001b[0m\u001b[0;34m)\u001b[0m \u001b[0;34m>\u001b[0m \u001b[0;36m5\u001b[0m\u001b[0;34m)\u001b[0m \u001b[0;34m)\u001b[0m\u001b[0;34m\u001b[0m\u001b[0;34m\u001b[0m\u001b[0m\n\u001b[0m\u001b[1;32m      2\u001b[0m \u001b[0;34m\u001b[0m\u001b[0m\n\u001b[1;32m      3\u001b[0m \u001b[0mdata_masked\u001b[0m \u001b[0;34m=\u001b[0m \u001b[0mnp\u001b[0m\u001b[0;34m.\u001b[0m\u001b[0mma\u001b[0m\u001b[0;34m.\u001b[0m\u001b[0mmasked_array\u001b[0m\u001b[0;34m(\u001b[0m\u001b[0mz_score_map_abba\u001b[0m\u001b[0;34m,\u001b[0m \u001b[0mmask\u001b[0m\u001b[0;34m=\u001b[0m\u001b[0mz_score_map_abba_mask\u001b[0m\u001b[0;34m,\u001b[0m \u001b[0mfill_value\u001b[0m \u001b[0;34m=\u001b[0m \u001b[0mnp\u001b[0m\u001b[0;34m.\u001b[0m\u001b[0mnan\u001b[0m\u001b[0;34m)\u001b[0m\u001b[0;34m\u001b[0m\u001b[0;34m\u001b[0m\u001b[0m\n",
      "\u001b[0;31mNameError\u001b[0m: name 'z_score_map_abba' is not defined"
     ]
    }
   ],
   "source": [
    "z_score_map_abba_mask = ((z_score_map_abba.astype(float) < -5) ^ (z_score_map_abba.astype(float) > 5) )\n",
    "\n",
    "data_masked = np.ma.masked_array(z_score_map_abba, mask=z_score_map_abba_mask, fill_value = np.nan)"
   ]
  },
  {
   "cell_type": "code",
   "execution_count": null,
   "id": "fa40a8b6-53a5-49e4-92c0-e489f8a85b66",
   "metadata": {},
   "outputs": [],
   "source": [
    "from matplotlib.colors import LogNorm\n",
    "import matplotlib as mpl\n",
    "\n",
    "figure, ax = plt.subplots(1, 2 , figsize=(24, 10), dpi=150)\n",
    "\n",
    "cmap = mpl.cm.viridis\n",
    "bounds =[-6,-5.5,-5,-4.5,-3, -2,-1,0,1,2,3,4.5,5, 5.5, 6]\n",
    "norm = mpl.colors.BoundaryNorm(bounds, cmap.N, extend='both')\n",
    "\n",
    "plot_waterfall(data_masked, Title = 'Z Score(L1) (ABBA Sky-Subtraction) Flagged @ Threshold > 5', figsize=(20,12), cmap=cmap, norm=norm, xlabel='Frequency Chan', ylabel='Time Chan', interpolation='nearest',clabel='Deviation', ax=ax[0]) \n",
    "plot_waterfall(z_score_map_abba, Title = 'Z Score (L1) (ABBA Sky-Subtraction)', figsize=(20,12), cmap=cmap, norm=norm, xlabel='Frequency Chan', ylabel='Time Chan', interpolation='nearest',clabel='Deviation', ax=ax[1]) "
   ]
  },
  {
   "cell_type": "code",
   "execution_count": null,
   "id": "771046ad-983e-4224-819e-90b374201546",
   "metadata": {},
   "outputs": [],
   "source": [
    "from matplotlib.colors import LogNorm\n",
    "import matplotlib as mpl\n",
    "\n",
    "figure, ax = plt.subplots(1, 2 , figsize=(24, 10), dpi=150)\n",
    "\n",
    "cmap = mpl.cm.viridis\n",
    "bounds =[-6,-5.5,-5,-4.5,-3, -2,-1,0,1,2,3,4.5,5, 5.5, 6]\n",
    "norm = mpl.colors.BoundaryNorm(bounds, cmap.N, extend='both')\n",
    "\n",
    "plot_waterfall(data_masked, Title = 'Z Score(L1) (ABBA Sky-Subtraction) Flagged @ Threshold > 4.5', figsize=(20,12), cmap=cmap, norm=norm, xlabel='Frequency Chan', ylabel='Time Chan', interpolation='nearest',clabel='Deviation', ax=ax[0]) \n",
    "plot_waterfall(z_score_map_abba, Title = 'Z Score (L1) (ABBA Sky-Subtraction)', figsize=(20,12), cmap=cmap, norm=norm, xlabel='Frequency Chan', ylabel='Time Chan', interpolation='nearest',clabel='Deviation', ax=ax[1]) "
   ]
  },
  {
   "cell_type": "code",
   "execution_count": null,
   "id": "09b47d92-5f58-48ac-8bca-80bf1d050dd7",
   "metadata": {},
   "outputs": [],
   "source": [
    "from matplotlib.colors import LogNorm\n",
    "import matplotlib as mpl\n",
    "\n",
    "figure, ax = plt.subplots(1, 2 , figsize=(24, 10), dpi=150)\n",
    "\n",
    "cmap = mpl.cm.viridis\n",
    "bounds =[-6,-5.5,-5,-4.5,-3, -2,-1,0,1,2,3,4.5,5, 5.5, 6]\n",
    "norm = mpl.colors.BoundaryNorm(bounds, cmap.N, extend='both')\n",
    "\n",
    "plot_waterfall(data_masked, Title = 'Z Score(L1) (ABBA Sky-Subtraction) Flagged @ Threshold -4.5< ^ > 4.5', figsize=(20,12), cmap=cmap, norm=norm, xlabel='Frequency Chan', ylabel='Time Chan', interpolation='nearest',clabel='Deviation', ax=ax[0]) \n",
    "plot_waterfall(z_score_map_abba, Title = 'Z Score (L1) (ABBA Sky-Subtraction)', figsize=(20,12), cmap=cmap, norm=norm, xlabel='Frequency Chan', ylabel='Time Chan', interpolation='nearest',clabel='Deviation', ax=ax[1]) "
   ]
  },
  {
   "cell_type": "code",
   "execution_count": null,
   "id": "a1c0a21a-37b6-41dc-82ba-4239bca629a1",
   "metadata": {},
   "outputs": [],
   "source": [
    "from matplotlib.colors import LogNorm\n",
    "import matplotlib as mpl\n",
    "\n",
    "figure, ax = plt.subplots(1, 2 , figsize=(24, 10), dpi=150)\n",
    "\n",
    "cmap = mpl.cm.viridis\n",
    "bounds =[-6,-5.5,-5,-4.5,-3, -2,-1,0,1,2,3,4.5,5, 5.5, 6]\n",
    "norm = mpl.colors.BoundaryNorm(bounds, cmap.N, extend='both')\n",
    "\n",
    "plot_waterfall(data_masked, Title = 'Z Score(L1) (ABBA Sky-Subtraction) Flagged @ Threshold -5< ^ > 5', figsize=(20,12), cmap=cmap, norm=norm, xlabel='Frequency Chan', ylabel='Time Chan', interpolation='nearest',clabel='Deviation', ax=ax[0]) \n",
    "plot_waterfall(z_score_map_abba, Title = 'Z Score (L1) (ABBA Sky-Subtraction)', figsize=(20,12), cmap=cmap, norm=norm, xlabel='Frequency Chan', ylabel='Time Chan', interpolation='nearest',clabel='Deviation', ax=ax[1]) "
   ]
  },
  {
   "cell_type": "code",
   "execution_count": null,
   "id": "8f5b75b7-c1f1-4bc6-9bc2-a3cb41b9f467",
   "metadata": {},
   "outputs": [],
   "source": [
    "zscore_l4_mask  = ((zscore_l4.astype(float) < -5) ^ (zscore_l4.astype(float) > 5) )\n",
    "\n",
    "data_masked = np.ma.masked_array(zscore_l4, mask=z_score_map_abba_mask, fill_value = np.nan)"
   ]
  },
  {
   "cell_type": "code",
   "execution_count": null,
   "id": "69566e33-d607-4878-a4ce-7fce0da32d8a",
   "metadata": {},
   "outputs": [],
   "source": []
  },
  {
   "cell_type": "code",
   "execution_count": null,
   "id": "2338e047-a9b5-49bf-a829-36cf8b7e53ed",
   "metadata": {},
   "outputs": [],
   "source": [
    "#This function will return the flags for the raw data \n",
    "\n",
    "def mask_flags(zscore_mask):\n",
    "    \n",
    "    shape = list(zscore_mask.shape)\n",
    "    flags_new = np.zeros([shape[0] + 3] + shape[1:], dtype=bool)  #(t, f) ----> (3467, 4096)  # expanded the dims\n",
    "    flags_new[:-3] = zscore_mask\n",
    "    flags_new[:] = np.logical_or(flags_new[:], flags_new[:])\n",
    "    nd= nd_flags_dict['m000']\n",
    "    nd_flags = np.ones_like(data_vis, dtype=bool)\n",
    "    nd_flags[nd,:] = False                                         #unmasked data, the noise diodes\n",
    "    allflags =  np.logical_or(nd_flags, flag_old)\n",
    "    new_flags = np.logical_or(flags_new, allflags)\n",
    "    return new_flags\n",
    "        \n"
   ]
  },
  {
   "cell_type": "code",
   "execution_count": null,
   "id": "108afdf1-f11c-41e1-aaee-3768acf72674",
   "metadata": {},
   "outputs": [],
   "source": []
  },
  {
   "cell_type": "code",
   "execution_count": null,
   "id": "8a77ba1f-586b-4b18-a030-0fa347a40939",
   "metadata": {},
   "outputs": [],
   "source": [
    "#This function will return the flags for the raw data \n",
    "\n",
    "def mask_to_flags(zscore_mask, nd_flags, l1_flags):\n",
    "    \n",
    "    shape = list(zscore_mask.shape)\n",
    "    flags_new = np.zeros([shape[0] + 3] + shape[1:], dtype=bool)  #(t, f) ----> (3467, 4096)  # expanded the dims\n",
    "    flags_new[:-3] = zscore_mask\n",
    "    flags_new[:] = np.logical_or(flags_new[:], flags_new[:])\n",
    "   \n",
    "    allflags =  np.logical_or(nd_flags, l1_flags)\n",
    "    new_flags = np.logical_or(flags_new, allflags)\n",
    "    new_flags_dict = {}\n",
    "    for ant in ants:\n",
    "        new_flags_dict[ant[0]] = new_flags\n",
    "        \n",
    "        \n",
    "        \n",
    "    \n",
    "    return new_flags_dict\n",
    "        \n"
   ]
  },
  {
   "cell_type": "code",
   "execution_count": null,
   "id": "b62bf0dc-bb52-4520-99d9-14b174a35425",
   "metadata": {},
   "outputs": [],
   "source": [
    "flags_new = mask_flags(z_score_map_abba_mask)"
   ]
  },
  {
   "cell_type": "code",
   "execution_count": null,
   "id": "e45a10e4-80d5-4063-b05d-f924df31104a",
   "metadata": {},
   "outputs": [],
   "source": [
    "from collections import defaultdict #stackexchange suggestion\n",
    "\n",
    "d1 = l1_flags_dict\n",
    "d2 = raw_vis_dict\n",
    "d3 = nd_flags_dict\n",
    "d4 = flags_new\n",
    "\n",
    "dd = defaultdict(list)\n",
    "\n",
    "for d in (d1, d2, d3, d4): # you can list as many input dicts as y\n",
    "    for key, value in d.items():\n",
    "        dd[key].append(value)\n",
    "    \n",
    "print(dd) # result: defaultdict(<type 'list'>, {1: [2, 6], 3: [4, 7]})\n"
   ]
  },
  {
   "cell_type": "code",
   "execution_count": null,
   "id": "5e9b0102-3480-4cb1-a85e-e583d676158a",
   "metadata": {},
   "outputs": [],
   "source": [
    "masked_vis_update_dict = {}\n",
    "\n",
    "for dish, (mask_flags, vis , nd_s0, flags_new) in dd.items():\n",
    "   \n",
    "    \n",
    "    masked_vis = MaskedArrayVisibilityFlags(vis, mask_flags, nd_s0, new_flags = flags_new)\n",
    "    masked_vis_dict[dish] = masked_vis\n",
    "\n"
   ]
  },
  {
   "cell_type": "code",
   "execution_count": null,
   "id": "ae3e1179-5743-45a4-94a2-dc9cfbe7c373",
   "metadata": {},
   "outputs": [],
   "source": []
  }
 ],
 "metadata": {
  "kernelspec": {
   "display_name": "katcal_py3 (public)",
   "language": "python",
   "name": "katcal-py3"
  },
  "language_info": {
   "codemirror_mode": {
    "name": "ipython",
    "version": 3
   },
   "file_extension": ".py",
   "mimetype": "text/x-python",
   "name": "python",
   "nbconvert_exporter": "python",
   "pygments_lexer": "ipython3",
   "version": "3.6.9"
  }
 },
 "nbformat": 4,
 "nbformat_minor": 5
}
