{
 "cells": [
  {
   "cell_type": "markdown",
   "metadata": {},
   "source": [
    "# Investigating Brightness Distribution of MeerKLASS data\n",
    "\n",
    "@Tamera to modify and add as needed.\n",
    "\n",
    "We want to look at the brightness distribution of the MeerKLASS autocorrelation data that is flagged and not flagged as RFI. This is similar to study in Offringa et al. (2013), who did this analysis on LOFAR interferometric data.\n",
    "\n",
    "The brightness distribution is expected to consists of a Gaussian distribution (non-RFI), and power-law tail (RFI)\n",
    "\n",
    "To calculate the brightness distribution, we have to do some histrogramming.\n",
    "1. Grab a calibrate data. \n",
    "* The data must be calibrated to perform this analysis. \n",
    "  * Offringa et al. (2013) worked on interferometric data, so their cross-correlation visibility is in Jy. We have a TOD data, likely in K once calibrated, which means that the distribution might be off if calculated from the temperature ToD data. We might need to convert back to Jy. This is usually just the brightness temperature -- flux relation, e.g. https://science.nrao.edu/facilities/vla/proposing/TBconv, but we should check with the team how this conversion is done on the ToD.\n",
    "* @Tamera to post in the wg-calibration-rfi channel to ask how the temperature--flux conversion was done.\n",
    "\n",
    "2. Calculating the histogram.\n",
    "* First, make a fixed log-scale bin for the flux/temperature by using `np.logspace`. This bin ill be used for all data blacks. \n",
    "* With the fixed bin, calculate the brigtness counts using `np.histogram`. The log-scale bin can be passed into `bin` option. Do this on the data with and without RFI flagged, as well as on the data flagged as RFI only.\n",
    "* To get the counts from multiple data blocks, simply sum their counts, no need to recalculate from the sum\n",
    "* of the data itself. This is possible because we use the same fixed bin on all blocks.\n",
    "\n",
    "3. If we see something that look like the RFI power-law in the obtained brightness distribution, take a look at the count from \"RFI-only\" data and see how it looks -- it should show just the RFI tail part of the distribution."
   ]
  },
  {
   "cell_type": "code",
   "execution_count": 3,
   "metadata": {},
   "outputs": [],
   "source": []
  },
  {
   "cell_type": "code",
   "execution_count": null,
   "metadata": {},
   "outputs": [],
   "source": []
  }
 ],
 "metadata": {
  "kernelspec": {
   "display_name": "katcali",
   "language": "python",
   "name": "python3"
  },
  "language_info": {
   "codemirror_mode": {
    "name": "ipython",
    "version": 3
   },
   "file_extension": ".py",
   "mimetype": "text/x-python",
   "name": "python",
   "nbconvert_exporter": "python",
   "pygments_lexer": "ipython3",
   "version": "3.11.10"
  }
 },
 "nbformat": 4,
 "nbformat_minor": 2
}
